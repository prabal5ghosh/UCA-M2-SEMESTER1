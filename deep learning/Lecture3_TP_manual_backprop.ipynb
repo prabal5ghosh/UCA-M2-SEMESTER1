{
  "nbformat": 4,
  "nbformat_minor": 0,
  "metadata": {
    "kernelspec": {
      "display_name": "Python 3",
      "language": "python",
      "name": "python3"
    },
    "language_info": {
      "codemirror_mode": {
        "name": "ipython",
        "version": 3
      },
      "file_extension": ".py",
      "mimetype": "text/x-python",
      "name": "python",
      "nbconvert_exporter": "python",
      "pygments_lexer": "ipython3",
      "version": "3.7.6"
    },
    "colab": {
      "provenance": [],
      "include_colab_link": true
    }
  },
  "cells": [
    {
      "cell_type": "markdown",
      "metadata": {
        "id": "view-in-github",
        "colab_type": "text"
      },
      "source": [
        "<a href=\"https://colab.research.google.com/github/prabal5ghosh/UCA-M2-SEMESTER1/blob/main/deep%20learning/Lecture3_TP_manual_backprop.ipynb\" target=\"_parent\"><img src=\"https://colab.research.google.com/assets/colab-badge.svg\" alt=\"Open In Colab\"/></a>"
      ]
    },
    {
      "cell_type": "markdown",
      "metadata": {
        "id": "PbzBJ1m9FBBb"
      },
      "source": [
        "<center><h1>TP: Manual backprop</h1></center>\n",
        "\n",
        "# Warning :\n",
        "# \"File -> Save a copy in Drive\" before starting to modify the notebook, otherwise changes won't be saved.\n"
      ]
    },
    {
      "cell_type": "code",
      "metadata": {
        "id": "NfnKy8NB8J5e",
        "colab": {
          "base_uri": "https://localhost:8080/"
        },
        "outputId": "8f5f38cb-613c-4044-920e-75ea527865f7"
      },
      "source": [
        "!wget https://remysun.github.io/uploads/TPBackprop.zip\n",
        "!unzip -j TPBackprop.zip\n",
        "!wget https://remysun.github.io/uploads/utils-data.py"
      ],
      "execution_count": 1,
      "outputs": [
        {
          "output_type": "stream",
          "name": "stdout",
          "text": [
            "--2024-10-15 13:48:56--  https://remysun.github.io/uploads/TPBackprop.zip\n",
            "Resolving remysun.github.io (remysun.github.io)... 185.199.108.153, 185.199.109.153, 185.199.110.153, ...\n",
            "Connecting to remysun.github.io (remysun.github.io)|185.199.108.153|:443... connected.\n",
            "HTTP request sent, awaiting response... 200 OK\n",
            "Length: 13423382 (13M) [application/zip]\n",
            "Saving to: ‘TPBackprop.zip’\n",
            "\n",
            "TPBackprop.zip      100%[===================>]  12.80M  --.-KB/s    in 0.09s   \n",
            "\n",
            "2024-10-15 13:48:57 (142 MB/s) - ‘TPBackprop.zip’ saved [13423382/13423382]\n",
            "\n",
            "Archive:  TPBackprop.zip\n",
            "  inflating: ._TP3-4                 \n",
            "  inflating: circles.mat             \n",
            "  inflating: ._circles.mat           \n",
            "  inflating: mnist.mat               \n",
            "  inflating: ._mnist.mat             \n",
            "--2024-10-15 13:48:57--  https://remysun.github.io/uploads/utils-data.py\n",
            "Resolving remysun.github.io (remysun.github.io)... 185.199.108.153, 185.199.109.153, 185.199.110.153, ...\n",
            "Connecting to remysun.github.io (remysun.github.io)|185.199.108.153|:443... connected.\n",
            "HTTP request sent, awaiting response... 200 OK\n",
            "Length: 3950 (3.9K) [application/octet-stream]\n",
            "Saving to: ‘utils-data.py’\n",
            "\n",
            "utils-data.py       100%[===================>]   3.86K  --.-KB/s    in 0s      \n",
            "\n",
            "2024-10-15 13:48:57 (51.8 MB/s) - ‘utils-data.py’ saved [3950/3950]\n",
            "\n"
          ]
        }
      ]
    },
    {
      "cell_type": "code",
      "metadata": {
        "id": "2vQ_LLdx8J5b"
      },
      "source": [
        "import math\n",
        "import torch\n",
        "from torch.autograd import Variable\n",
        "import numpy as np\n",
        "import matplotlib\n",
        "import matplotlib.pyplot as plt\n",
        "%run 'utils-data.py'"
      ],
      "execution_count": 2,
      "outputs": []
    },
    {
      "cell_type": "markdown",
      "metadata": {
        "id": "48x_ha7f8J5i"
      },
      "source": [
        "# Part 1 : Forward et Backward\n",
        "\n",
        "Complete the function init_params to initialize the weights and store them in a dictionary. All weights should be initialized following a normal law with mean 0 and standard deviation 0.3.\n",
        "Hint: Use torch.randn and torch.zeros"
      ]
    },
    {
      "cell_type": "code",
      "metadata": {
        "id": "GtizX1JV8J5n"
      },
      "source": [
        "def init_params(nx, nh, ny):\n",
        "    \"\"\"\n",
        "    nx, nh, ny: integers\n",
        "    out params: dictionnary\n",
        "    \"\"\"\n",
        "    params = {}\n",
        "\n",
        "    #####################\n",
        "    ## Votre code ici  ##\n",
        "    #####################\n",
        "    # remplir avec les paramètres Wh, Wy, bh, by\n",
        "\n",
        "    params[\"Wh\"] = torch.randn(nx,nh)*0.3\n",
        "    params[\"Wy\"] = torch.randn(nh,ny)*0.3\n",
        "    params[\"bh\"] = torch.zeros(nh)\n",
        "    params[\"by\"] = torch.zeros(ny)\n",
        "\n",
        "    ####################\n",
        "    ##      FIN        #\n",
        "    ####################\n",
        "    return params"
      ],
      "execution_count": 9,
      "outputs": []
    },
    {
      "cell_type": "markdown",
      "source": [
        "Complete the function forward to compute all the intermediary activations and the final output of the network given a batch of inputs X along with network weights params. The function should return a dictionary of intermediate steps and the output Y of the network.\n",
        "Hint: torch.mm implements matricial multiplication and torch.tanh, torch.exp, and torch.sum give useful functions."
      ],
      "metadata": {
        "id": "vPdKZYDKpn7h"
      }
    },
    {
      "cell_type": "code",
      "source": [
        "init_params(2,4,2)"
      ],
      "metadata": {
        "colab": {
          "base_uri": "https://localhost:8080/"
        },
        "id": "XUDJPuqUeDxy",
        "outputId": "50b1f30a-413c-411d-be64-8acee516e0a8"
      },
      "execution_count": 10,
      "outputs": [
        {
          "output_type": "execute_result",
          "data": {
            "text/plain": [
              "{'Wh': tensor([[-0.0888,  0.7485, -0.0452, -0.2434],\n",
              "         [-0.0239,  0.1003,  0.1522,  0.3655]]),\n",
              " 'Wy': tensor([[-0.1793,  0.0321],\n",
              "         [-0.4517,  0.4878],\n",
              "         [-0.1667, -0.0090],\n",
              "         [ 0.1707, -0.2936]]),\n",
              " 'bh': tensor([0., 0., 0., 0.]),\n",
              " 'by': tensor([0., 0.])}"
            ]
          },
          "metadata": {},
          "execution_count": 10
        }
      ]
    },
    {
      "cell_type": "code",
      "metadata": {
        "id": "jk-N_Ny67yo-"
      },
      "source": [
        "def forward(params, X):\n",
        "    \"\"\"\n",
        "    params: dictionnary\n",
        "    X: (n_batch, dimension)\n",
        "    \"\"\"\n",
        "    bsize = X.size(0)\n",
        "    nh = params['Wh'].size(0)\n",
        "    ny = params['Wy'].size(0)\n",
        "    outputs = {}\n",
        "\n",
        "    #####################\n",
        "    ## Votre code ici  ##\n",
        "    #####################\n",
        "    # remplir avec les paramètres X, htilde, h, ytilde, yhat\n",
        "\n",
        "    outputs[\"X\"] = X\n",
        "    outputs[\"htilde\"] = torch.mm(X,params[\"Wh\"]. T) + params[\"bh\"]\n",
        "    outputs[\"h\"] = torch.tanh(outputs[\"htilde\"])\n",
        "    outputs[\"ytilde\"] = torch.mm(outputs[\"h\"],params[\"Wy\"].T ) + params[\"by\"]\n",
        "    # outputs[\"yhat\"] = torch.nn.functional.softmax(input = outputs[\"ytilde\"])\n",
        "    x_exp = torch.exp(outputs[\"ytilde\"])\n",
        "    x_exp_sum = torch.sum(x_exp, 1, keepdim=True)\n",
        "    outputs[\"yhat\"] =x_exp/x_exp_sum\n",
        "\n",
        "    ####################\n",
        "    ##      FIN        #\n",
        "    ####################\n",
        "\n",
        "    return outputs['yhat'], outputs"
      ],
      "execution_count": 12,
      "outputs": []
    },
    {
      "cell_type": "markdown",
      "source": [
        "Complete loss_accuracy to compute the cost function and the accuracy of the model from a matrix Yhat of outputs with respect to a ground truth matrix Y, and return the loss and accuracy.\n",
        "Note: You should use the function _, indsY = torch.max(Y,1) to get the index of the predicted class for each sample.\n",
        "Hint: You might want to use torch.mean, torch.max, torch.log and torch.sum."
      ],
      "metadata": {
        "id": "iPd2ByWvrBle"
      }
    },
    {
      "cell_type": "code",
      "metadata": {
        "id": "-uB0A2b28NZK"
      },
      "source": [
        "def loss_accuracy(Yhat, Y):\n",
        "\n",
        "    #####################\n",
        "    ## Votre code ici  ##\n",
        "    #####################\n",
        "\n",
        "    L = torch.nn.functional.cross_entropy(input= Yhat, target = Y)\n",
        "    acc = torch.sum(Yhat == Y)\n",
        "\n",
        "    ####################\n",
        "    ##      FIN        #\n",
        "    ####################\n",
        "\n",
        "    return L, acc"
      ],
      "execution_count": 13,
      "outputs": []
    },
    {
      "cell_type": "markdown",
      "source": [
        "Complete the backward function to compute the loss gradients with respect to the parameters, and store these gradients into the output dictionary."
      ],
      "metadata": {
        "id": "rwcXkM5orm9u"
      }
    },
    {
      "cell_type": "code",
      "metadata": {
        "id": "WWJjdiFe8qi5"
      },
      "source": [
        "def backward(params, outputs, Y):\n",
        "    bsize = Y.shape[0]\n",
        "    grads = {}\n",
        "\n",
        "    #####################\n",
        "    ## Votre code ici  ##\n",
        "    #####################\n",
        "    # remplir avec les paramètres Wy, Wh, by, bh\n",
        "\n",
        "    grads[\"Wy\"] = None\n",
        "    grads[\"Wh\"] = None\n",
        "    grads[\"by\"] = None\n",
        "    grads[\"bh\"] = None\n",
        "\n",
        "    ####################\n",
        "    ##      FIN        #\n",
        "    ####################\n",
        "    return grads"
      ],
      "execution_count": null,
      "outputs": []
    },
    {
      "cell_type": "markdown",
      "source": [
        "Now apply the SGD steps in the sgd function to update the parameters given the computed gradients."
      ],
      "metadata": {
        "id": "DyiVD5fCr3Nr"
      }
    },
    {
      "cell_type": "code",
      "metadata": {
        "id": "nAnsISsW9CnH"
      },
      "source": [
        "def sgd(params, grads, eta):\n",
        "\n",
        "    #####################\n",
        "    ## Votre code ici  ##\n",
        "    #####################\n",
        "    # mettre à jour le contenu de params\n",
        "\n",
        "    params[\"Wh\"] = None\n",
        "    params[\"Wy\"] = None\n",
        "    params[\"bh\"] = None\n",
        "    params[\"by\"] = None\n",
        "\n",
        "    ####################\n",
        "    ##      FIN        #\n",
        "    ####################\n",
        "    return params"
      ],
      "execution_count": null,
      "outputs": []
    },
    {
      "cell_type": "markdown",
      "metadata": {
        "id": "hifuW5UFA3DZ"
      },
      "source": [
        "## Algorithme global d'apprentissage (manuel)\n",
        "\n",
        "Fill in the forward, backward and SGD update calls in the training loop.\n",
        "Hint: The running batches Xtrain and Ytrain are already prepared for you in the code!"
      ]
    },
    {
      "cell_type": "code",
      "metadata": {
        "id": "4RSw6bd0-qUe"
      },
      "source": [
        "# init\n",
        "data = CirclesData()\n",
        "data.plot_data()\n",
        "N = data.Xtrain.shape[0]\n",
        "Nbatch = 10\n",
        "nx = data.Xtrain.shape[1]\n",
        "nh = 10\n",
        "ny = data.Ytrain.shape[1]\n",
        "eta = 0.03\n",
        "\n",
        "params = init_params(nx, nh, ny)\n",
        "\n",
        "curves = [[],[], [], []]\n",
        "\n",
        "# epoch\n",
        "for iteration in range(150):\n",
        "\n",
        "    # permute\n",
        "    perm = np.random.permutation(N)\n",
        "    Xtrain = data.Xtrain[perm, :]\n",
        "    Ytrain = data.Ytrain[perm, :]\n",
        "\n",
        "    #####################\n",
        "    ## Votre code ici  ##\n",
        "    #####################\n",
        "    # batches\n",
        "    for j in range(N // Nbatch):\n",
        "\n",
        "        indsBatch = range(j * Nbatch, (j+1) * Nbatch)\n",
        "        X = Xtrain[indsBatch, :]\n",
        "        Y = Ytrain[indsBatch, :]\n",
        "\n",
        "        # écrire l'algorithme d'apprentissage sur le batch (X,Y)\n",
        "        # en utilisant les fonctions forward, loss_accuracy, backward, sgd\n",
        "\n",
        "\n",
        "    ####################\n",
        "    ##      FIN        #\n",
        "    ####################\n",
        "\n",
        "\n",
        "    Yhat_train, _ = forward(params, data.Xtrain)\n",
        "    Yhat_test, _ = forward(params, data.Xtest)\n",
        "    Ltrain, acctrain = loss_accuracy(Yhat_train, data.Ytrain)\n",
        "    Ltest, acctest = loss_accuracy(Yhat_test, data.Ytest)\n",
        "    Ygrid, _ = forward(params, data.Xgrid)\n",
        "\n",
        "    title = 'Iter {}: Acc train {:.1f}% ({:.2f}), acc test {:.1f}% ({:.2f})'.format(iteration, acctrain, Ltrain, acctest, Ltest)\n",
        "    print(title)\n",
        "    data.plot_data_with_grid(Ygrid, title)\n",
        "\n",
        "    curves[0].append(acctrain)\n",
        "    curves[1].append(acctest)\n",
        "    curves[2].append(Ltrain)\n",
        "    curves[3].append(Ltest)\n",
        "\n",
        "fig = plt.figure()\n",
        "plt.plot(curves[0], label=\"acc. train\")\n",
        "plt.plot(curves[1], label=\"acc. test\")\n",
        "plt.plot(curves[2], label=\"loss train\")\n",
        "plt.plot(curves[3], label=\"loss test\")\n",
        "plt.legend()\n",
        "plt.show()"
      ],
      "execution_count": null,
      "outputs": []
    },
    {
      "cell_type": "markdown",
      "source": [
        "# Bonus: Try to add a third layer to the MLP!"
      ],
      "metadata": {
        "id": "-xTIaiHwscxb"
      }
    },
    {
      "cell_type": "code",
      "source": [],
      "metadata": {
        "id": "QlnVnWekshBK"
      },
      "execution_count": null,
      "outputs": []
    }
  ]
}