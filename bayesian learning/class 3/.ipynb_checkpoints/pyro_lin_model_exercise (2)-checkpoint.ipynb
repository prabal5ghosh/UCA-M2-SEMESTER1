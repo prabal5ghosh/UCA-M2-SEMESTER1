{
 "cells": [
  {
   "cell_type": "code",
   "execution_count": 4,
   "id": "1db0ff6b",
   "metadata": {},
   "outputs": [],
   "source": [
    "import torch  # type: ignore\n",
    "import pyro  # type: ignore (to install it please use %pip install pyro-ppl )\n",
    "import pyro.distributions as dist  # type: ignore\n",
    "from pyro.optim import Adam  # type: ignore\n",
    "from pyro.infer import SVI, Trace_ELBO  # type: ignore\n",
    "from pyro.infer import MCMC, NUTS, HMC  # type: ignore\n",
    "from torch.distributions import constraints  # type: ignore\n",
    "import matplotlib.pyplot as plt  # type: ignore\n",
    "import seaborn as sns  # type: ignore\n",
    "import scipy  # type: ignore\n",
    "import numpy as np  # type: ignore\n",
    "import tqdm  # type: ignore\n",
    "import pyro.poutine as poutine  # type: ignore\n",
    "\n"
   ]
  },
  {
   "cell_type": "markdown",
   "id": "023964a0",
   "metadata": {},
   "source": [
    "# Practical exercises with VI"
   ]
  },
  {
   "cell_type": "markdown",
   "id": "fc398705",
   "metadata": {},
   "source": [
    "1- Start from the example seen the last week in class. Extend it to estimate a posterior distribution for the variance"
   ]
  },
  {
   "cell_type": "code",
   "execution_count": 5,
   "id": "4e5f3980",
   "metadata": {},
   "outputs": [
    {
     "data": {
      "image/png": "[encoded data removed]",
      "text/plain": [
       "<Figure size 360x144 with 1 Axes>"
      ]
     },
     "metadata": {
      "needs_background": "light"
     },
     "output_type": "display_data"
    }
   ],
   "source": [
    "# Example data\n",
    "true_mean=5\n",
    "true_std=1\n",
    "n_samples=100\n",
    "x = true_mean + true_std * torch.randn(n_samples)# Generate n_samples random noisy data points with mean 5 and standard deviation 1\n",
    "\n",
    "# Plotting the histogram of the data\n",
    "plt.figure(figsize=(5, 2))  # Set the figure size\n",
    "sns.histplot(x, binrange=(0,10), bins=30, kde=True, stat='density', alpha=0.1)  # Plot the histogram with KDE\n",
    "plt.tight_layout()  # Adjust the layout to fit everything nicely\n",
    "plt.show()  # Display the plot"
   ]
  },
  {
   "cell_type": "code",
   "execution_count": 6,
   "id": "698febf6",
   "metadata": {},
   "outputs": [],
   "source": [
    "def model(x):\n",
    "    # Introduce a prior on the latent variable theta\n",
    "    theta_prior = dist.Normal(0.0, 1.0)  # Normal prior distribution over theta\n",
    "    theta = pyro.sample('theta', theta_prior)  # Sample theta from the prior distribution\n",
    "    \n",
    "    sigma_prior = dist.Uniform(0.0, 20.0)  # Normal prior distribution over theta\n",
    "    sigma = pyro.sample('sigma', sigma_prior)  # Sample theta from the prior distribution\n",
    "\n",
    "    # Define the likelihood function; 'pyro.plate' is used to indicate a batch of data points\n",
    "    with pyro.plate('data', len(x)):\n",
    "        # Sample the observed data from a Normal distribution with mean theta and standard deviation 1\n",
    "        pyro.sample('obs', dist.Normal(theta, sigma), obs=x)"
   ]
  },
  {
   "cell_type": "code",
   "execution_count": 7,
   "id": "5445e827",
   "metadata": {},
   "outputs": [
    {
     "data": {
      "image/svg+xml": [
       "<?xml version=\"1.0\" encoding=\"UTF-8\" standalone=\"no\"?>\n",
       "<!DOCTYPE svg PUBLIC \"-//W3C//DTD SVG 1.1//EN\"\n",
       " \"http://www.w3.org/Graphics/SVG/1.1/DTD/svg11.dtd\">\n",
       "<!-- Generated by graphviz version 11.0.0 (20240428.1522)\n",
       " -->\n",
       "<!-- Pages: 1 -->\n",
       "<svg width=\"150pt\" height=\"157pt\"\n",
       " viewBox=\"0.00 0.00 150.27 156.50\" xmlns=\"http://www.w3.org/2000/svg\" xmlns:xlink=\"http://www.w3.org/1999/xlink\">\n",
       "<g id=\"graph0\" class=\"graph\" transform=\"scale(1 1) rotate(0) translate(4 152.5)\">\n",
       "<polygon fill=\"white\" stroke=\"none\" points=\"-4,4 -4,-152.5 146.27,-152.5 146.27,4 -4,4\"/>\n",
       "<g id=\"clust1\" class=\"cluster\">\n",
       "<title>cluster_data</title>\n",
       "<polygon fill=\"none\" stroke=\"black\" points=\"33.83,-8 33.83,-84.5 103.83,-84.5 103.83,-8 33.83,-8\"/>\n",
       "<text text-anchor=\"middle\" x=\"84.58\" y=\"-15.2\" font-family=\"Times,serif\" font-size=\"14.00\">data</text>\n",
       "</g>\n",
       "<!-- theta -->\n",
       "<g id=\"node1\" class=\"node\">\n",
       "<title>theta</title>\n",
       "<ellipse fill=\"white\" stroke=\"black\" cx=\"28.83\" cy=\"-130.5\" rx=\"28.83\" ry=\"18\"/>\n",
       "<text text-anchor=\"middle\" x=\"28.83\" y=\"-125.45\" font-family=\"Times,serif\" font-size=\"14.00\">theta</text>\n",
       "</g>\n",
       "<!-- obs -->\n",
       "<g id=\"node3\" class=\"node\">\n",
       "<title>obs</title>\n",
       "<ellipse fill=\"grey\" stroke=\"black\" cx=\"68.83\" cy=\"-58.5\" rx=\"27\" ry=\"18\"/>\n",
       "<text text-anchor=\"middle\" x=\"68.83\" y=\"-53.45\" font-family=\"Times,serif\" font-size=\"14.00\">obs</text>\n",
       "</g>\n",
       "<!-- theta&#45;&gt;obs -->\n",
       "<g id=\"edge1\" class=\"edge\">\n",
       "<title>theta&#45;&gt;obs</title>\n",
       "<path fill=\"none\" stroke=\"black\" d=\"M38.11,-113.26C42.8,-105.05 48.62,-94.87 53.92,-85.59\"/>\n",
       "<polygon fill=\"black\" stroke=\"black\" points=\"56.93,-87.38 58.85,-76.96 50.85,-83.91 56.93,-87.38\"/>\n",
       "</g>\n",
       "<!-- sigma -->\n",
       "<g id=\"node2\" class=\"node\">\n",
       "<title>sigma</title>\n",
       "<ellipse fill=\"white\" stroke=\"black\" cx=\"108.83\" cy=\"-130.5\" rx=\"33.44\" ry=\"18\"/>\n",
       "<text text-anchor=\"middle\" x=\"108.83\" y=\"-125.45\" font-family=\"Times,serif\" font-size=\"14.00\">sigma</text>\n",
       "</g>\n",
       "<!-- sigma&#45;&gt;obs -->\n",
       "<g id=\"edge2\" class=\"edge\">\n",
       "<title>sigma&#45;&gt;obs</title>\n",
       "<path fill=\"none\" stroke=\"black\" d=\"M99.35,-112.91C94.65,-104.69 88.87,-94.56 83.6,-85.35\"/>\n",
       "<polygon fill=\"black\" stroke=\"black\" points=\"86.72,-83.75 78.72,-76.8 80.64,-87.22 86.72,-83.75\"/>\n",
       "</g>\n",
       "</g>\n",
       "</svg>\n"
      ],
      "text/plain": [
       "<graphviz.graphs.Digraph at 0x7f8418b5b0f0>"
      ]
     },
     "execution_count": 7,
     "metadata": {},
     "output_type": "execute_result"
    }
   ],
   "source": [
    "pyro.render_model(model, model_args=(x,))"
   ]
  },
  {
   "cell_type": "code",
   "execution_count": 8,
   "id": "e1b0e513",
   "metadata": {},
   "outputs": [],
   "source": [
    "def guide(x):\n",
    "    # Here we create a mu and sigma for the Gaussian variational approximation\n",
    "    tilde_mu = pyro.param('tilde_mu', torch.randn(1))  # Initialize tilde_mu for the variational distribution\n",
    "    tilde_sigma = pyro.param('tilde_sigma', torch.exp(torch.randn(1)), constraint=dist.constraints.positive)  # Initialize tilde_sigma for the variational distribution, ensuring positivity\n",
    "\n",
    "    # Sample z from the variational distribution\n",
    "    pyro.sample('theta', dist.Normal(tilde_mu, tilde_sigma))\n",
    "    \n",
    "    sigma_loc = pyro.param('sigma_loc', torch.randn(1))\n",
    "    pyro.sample(\"sigma\", dist.LogNormal(sigma_loc, torch.tensor(0.05)))"
   ]
  },
  {
   "cell_type": "code",
   "execution_count": 9,
   "id": "591b712d",
   "metadata": {},
   "outputs": [],
   "source": [
    "# At this point we can write an optimization routine as we do in PyTorch\n",
    "\n",
    "def optimisation(x, n_steps=1000, lr=1e-3):\n",
    "    # Clear any existing parameters in the Pyro parameter store\n",
    "    pyro.clear_param_store()\n",
    "\n",
    "    # Define the optimizer and SVI\n",
    "    adam_params = {'lr': lr}  # Set learning rate for the Adam optimizer\n",
    "    optimizer = Adam(adam_params)  # Initialize the Adam optimizer for the optimization of the ELBO\n",
    "    svi = SVI(model, guide, optimizer, loss=Trace_ELBO())  # Initialize SVI with the model, guide, optimizer, and loss function as the ELBO\n",
    "    \n",
    "    losses = []  # List to store loss values\n",
    "\n",
    "    # Perform optimization\n",
    "    for step in range(n_steps):\n",
    "        loss = svi.step(x)  # Perform a single optimization step\n",
    "        \n",
    "        # Record the loss\n",
    "        losses.append(loss)  # Append the loss to the list\n",
    "        \n",
    "        # Print progress every 500 steps\n",
    "        if (step + 1) % 500 == 0:\n",
    "            print(f'Step {step + 1} - Loss: {loss:.2f}')\n",
    "\n",
    "    return pyro.param('tilde_mu').item(), pyro.param('tilde_sigma').item(), pyro.param('sigma_loc').item(), losses"
   ]
  },
  {
   "cell_type": "code",
   "execution_count": 10,
   "id": "e1527a73",
   "metadata": {},
   "outputs": [
    {
     "name": "stdout",
     "output_type": "stream",
     "text": [
      "Step 500 - Loss: 207.54\n",
      "Step 1000 - Loss: 168.07\n",
      "Step 1500 - Loss: 159.74\n",
      "Step 2000 - Loss: 160.35\n",
      "Step 2500 - Loss: 160.59\n",
      "Step 3000 - Loss: 159.69\n",
      "Step 3500 - Loss: 160.74\n",
      "Step 4000 - Loss: 158.15\n",
      "Step 4500 - Loss: 160.32\n",
      "Step 5000 - Loss: 160.50\n"
     ]
    }
   ],
   "source": [
    "# Perform the optimisation\n",
    "tilde_mu, tilde_sigma, sigma_loc, losses = optimisation(x, n_steps=5000, lr=1e-2)"
   ]
  },
  {
   "cell_type": "code",
   "execution_count": 12,
   "id": "da7920c0",
   "metadata": {},
   "outputs": [
    {
     "name": "stdout",
     "output_type": "stream",
     "text": [
      "5.039690017700195 0.0990942195057869 -0.0008421680540777743\n"
     ]
    }
   ],
   "source": [
    "print(tilde_mu, tilde_sigma, sigma_loc)"
   ]
  },
  {
   "cell_type": "code",
   "execution_count": 17,
   "id": "7970904e",
   "metadata": {},
   "outputs": [],
   "source": [
    "from scipy.stats import lognorm, norm\n",
    "\n",
    "posterior_sample_sigma = lognorm.rvs(0.05, loc=sigma_loc, scale=1, size=1000, random_state=None)"
   ]
  },
  {
   "cell_type": "code",
   "execution_count": 18,
   "id": "6bf1a501",
   "metadata": {},
   "outputs": [
    {
     "data": {
      "text/plain": [
       "{'whiskers': [<matplotlib.lines.Line2D at 0x7f83e0052400>,\n",
       "  <matplotlib.lines.Line2D at 0x7f83e0052710>],\n",
       " 'caps': [<matplotlib.lines.Line2D at 0x7f83e00529e8>,\n",
       "  <matplotlib.lines.Line2D at 0x7f83e0052cc0>],\n",
       " 'boxes': [<matplotlib.lines.Line2D at 0x7f83e0052208>],\n",
       " 'medians': [<matplotlib.lines.Line2D at 0x7f83e0052f98>],\n",
       " 'fliers': [<matplotlib.lines.Line2D at 0x7f83e005e2b0>],\n",
       " 'means': []}"
      ]
     },
     "execution_count": 18,
     "metadata": {},
     "output_type": "execute_result"
    },
    {
     "data": {
      "image/png": "[encoded data removed]",
      "text/plain": [
       "<Figure size 432x288 with 1 Axes>"
      ]
     },
     "metadata": {
      "needs_background": "light"
     },
     "output_type": "display_data"
    }
   ],
   "source": [
    "plt.boxplot(posterior_sample_sigma)"
   ]
  },
  {
   "cell_type": "code",
   "execution_count": 19,
   "id": "aa9d9c9c",
   "metadata": {},
   "outputs": [],
   "source": [
    "posterior_sample_mu = norm.rvs(loc=tilde_mu, scale=tilde_sigma, size=1000, random_state=None)"
   ]
  },
  {
   "cell_type": "code",
   "execution_count": 20,
   "id": "5e94f0c9",
   "metadata": {},
   "outputs": [
    {
     "data": {
      "text/plain": [
       "{'whiskers': [<matplotlib.lines.Line2D at 0x7f83c8879a58>,\n",
       "  <matplotlib.lines.Line2D at 0x7f83c8879d68>],\n",
       " 'caps': [<matplotlib.lines.Line2D at 0x7f842a8a6080>,\n",
       "  <matplotlib.lines.Line2D at 0x7f842a8a6358>],\n",
       " 'boxes': [<matplotlib.lines.Line2D at 0x7f83c8879860>],\n",
       " 'medians': [<matplotlib.lines.Line2D at 0x7f842a8a6630>],\n",
       " 'fliers': [<matplotlib.lines.Line2D at 0x7f842a8a6908>],\n",
       " 'means': []}"
      ]
     },
     "execution_count": 20,
     "metadata": {},
     "output_type": "execute_result"
    },
    {
     "data": {
      "image/png": "[encoded data removed]",
      "text/plain": [
       "<Figure size 432x288 with 1 Axes>"
      ]
     },
     "metadata": {
      "needs_background": "light"
     },
     "output_type": "display_data"
    }
   ],
   "source": [
    "plt.boxplot(posterior_sample_mu)"
   ]
  },
  {
   "cell_type": "markdown",
   "id": "0b0c31d6",
   "metadata": {},
   "source": [
    "2- Consider the following linear regression problem. Find the posterior distribution for the regression parameters"
   ]
  },
  {
   "cell_type": "code",
   "execution_count": null,
   "id": "03593790",
   "metadata": {},
   "outputs": [],
   "source": [
    "# Generate some synthetic data\n",
    "N = 100\n",
    "x = torch.randn(N, 1)\n",
    "w_true = 2.0\n",
    "b_true = 1.0\n",
    "noise_std = 0.5\n",
    "y = w_true * x + b_true + noise_std * torch.randn(N, 1)\n"
   ]
  },
  {
   "cell_type": "code",
   "execution_count": null,
   "id": "26bef30a",
   "metadata": {},
   "outputs": [],
   "source": []
  }
 ],
 "metadata": {
  "kernelspec": {
   "display_name": "Python 3 (ipykernel)",
   "language": "python",
   "name": "python3"
  },
  "language_info": {
   "codemirror_mode": {
    "name": "ipython",
    "version": 3
   },
   "file_extension": ".py",
   "mimetype": "text/x-python",
   "name": "python",
   "nbconvert_exporter": "python",
   "pygments_lexer": "ipython3",
   "version": "3.11.5"
  }
 },
 "nbformat": 4,
 "nbformat_minor": 5
}
