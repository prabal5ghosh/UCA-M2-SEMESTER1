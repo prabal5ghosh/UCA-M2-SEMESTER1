{
 "cells": [
  {
   "cell_type": "markdown",
   "metadata": {},
   "source": []
  },
  {
   "cell_type": "code",
   "execution_count": 1,
   "metadata": {},
   "outputs": [],
   "source": [
    "import torch  # type: ignore\n",
    "import pyro  # type: ignore (to install it please use %pip install pyro-ppl )\n",
    "import pyro.distributions as dist  # type: ignore\n",
    "from pyro.optim import Adam  # type: ignore\n",
    "from pyro.infer import SVI, Trace_ELBO  # type: ignore\n",
    "from pyro.infer import MCMC, NUTS, HMC  # type: ignore\n",
    "from torch.distributions import constraints  # type: ignore\n",
    "import matplotlib.pyplot as plt  # type: ignore\n",
    "import seaborn as sns  # type: ignore\n",
    "import scipy  # type: ignore\n",
    "import numpy as np  # type: ignore\n",
    "import tqdm  # type: ignore\n",
    "import pyro.poutine as poutine  # type: ignore\n"
   ]
  },
  {
   "cell_type": "markdown",
   "metadata": {},
   "source": [
    "\n",
    "# Introduction\n",
    "Consider a problem in which we have a parameter $\\theta$ that we do not directly measure, but we have indirect measures, for instance: $x=f(\\theta)+\\varepsilon$.\n",
    "\n",
    "This model, given the distribution of the noise $\\varepsilon$ and the prior on $\\theta$, gives us the possibility to reconstruct the posterior distribution of the latent variable: $p(\\theta\\mid x)$.\n",
    "\n",
    "However we have some problems, indeed we are not alwayse able to compute the exact posterior distribution: $$p(\\theta\\mid x) = \\frac{p(x\\mid \\theta)p(\\theta)}{\\int p(x\\mid \\theta)p(\\theta) d\\theta}$$ especially the integral denominator is the big problem.\n",
    "For this reason we can 1) simplify the model in order to obtain a closed form solution for the psterior distribution (eg conjugate prior); 2) be happy with an approximate solution.\n",
    "Using a great sentence of John Tukey \"Far better an approximate answer to the right question, which is often vague, than an exact answer to the wrong question, which can always be made precise\", we can justificate the usage of an approximate method.\n",
    "\n",
    "# Variational Inference (VI)\n",
    "\n",
    "Variational inference describes a methodology to perform approximate inference. With VI we  consider a space of surrogate functions $\\mathcal{Q}$ where our approximated posterior distribution $q(\\theta\\mid x)$ belongs to. To compute the optimal approximated posteriot we minimise the dissimilarity between the approximation  and the actual posterior that we cannot compute in close form. There are two things we have to fix before continuing: 1) th enotion of dissimilarity to use; 2) the space of functions.\n",
    "\n",
    "1. as notion of dissimilarity we consider the Kullback-Leibler (KL) divergence, that measures the (statistical) discrepancy between two probability distributions:\n",
    "\n",
    "$$D_{KL}(q\\|p) = \\int q(\\theta ) \\ln\\left(\\frac{q(\\theta)}{p(\\theta\\mid x)}\\right) d\\theta$$\n",
    "\n",
    "2. for simplicity we consider parametric inference, it means that we fix the family of distributions $\\mathcal{Q}$ and we optimise w.r.t. the parameters $\\theta$ of these distributions (eg. mean and std for Gaussian family of distributions).\n",
    "\n",
    "Therefore a variational inference method looks for the optimal distribution: $q^*(\\theta) = \\arg\\min_{q\\in\\mathcal{Q}} D_{KL}(q\\|p)$.\n",
    "\n",
    "Unfortunately, the $D_{KL}$ often does not have a closed form solution, therefore we have to evaluate it in some other way. We can expand it obtaining:\n",
    "\n",
    "$$D_{KL}(q\\|p) = \\int q(\\theta) \\ln\\left(\\frac{q(\\theta)}{p(\\theta\\mid x)}\\right) d\\theta = \n",
    "\\int q(\\theta) \\ln\\left(\\frac{q(\\theta)}{p(\\theta,x)}\\right) d\\theta + \\ln(p(x))\\int q(\\theta)d\\theta =-\\underbrace{\\mathbb{E}_{q}\\left[\\ln\\left(\\frac{p(\\theta,x)}{q(\\theta)}\\right)\\right]}_{\\text{ELBO}(q)} +\\ln(p(x))$$\n",
    "\n",
    "\n",
    "Therefore we have that the $D_{KL}$ is the difference between the data evidence $\\ln(p(x))$ and the ELBO ${\\mathbb{E}_{q}\\left[\\ln\\left(\\frac{p(\\theta,x)}{q(\\theta)}\\right)\\right]}$. \n",
    "Since the $D_{KL}$ is always positive and the data evidence $\\ln(p(x))$ does not depend from $q(\\theta)$, the above equation implies that the maximisation of the ELBO corresponds to the minimization of the $D_{KL}$ between approximated and target posterior:\n",
    "\n",
    "$$q^*(\\theta) = \\arg\\min_{q\\in\\mathcal{Q}} D_{KL}(q\\|p)=\\arg\\max_{q\\in\\mathcal{Q}} \\text{ELBO}(q).$$\n",
    "\n",
    "\n",
    "An alternative approach to derive the ELBO can be obtained starting from the evidence:\n",
    "\n",
    "$$ \\ln(p(x)) = \\ln \\int_\\theta p(x,\\theta) d\\theta  = \\ln \\int_\\theta p(x,\\theta)\\frac{q(\\theta)}{q(\\theta)} d\\theta = \\ln  \\mathbb{E}_{q}\\frac{p(x,\\theta)}{q(\\theta)} \\geq  \\mathbb{E}_{q} \\left[\\ln \\left(\\frac{p(x,\\theta)}{q(\\theta)}\\right)\\right] = ELBO$$.\n",
    "\n",
    "This inequality shows that the ELBO is a lower bound to the data evidence. As seen above, the gap between the two is precisely $D_{KL}(q\\|p)$.  \n",
    "\n",
    "\n",
    "But, how can we optimise the ELBO? Via **Gradient descent** for example. Of curse it is not easy to implement a code that does everithing we need. But it is easy thanks to some tools, such as Pyro.\n",
    "\n",
    "\n",
    "## Optimizing the ELBO\n",
    "\n",
    "Optimizing the ELBO requires to solve the problem:\n",
    "\n",
    "$$q^*(\\theta) = \\arg\\max_{q\\in\\mathcal{Q}} \\text{ELBO}(q) = \\arg\\max_{q\\in\\mathcal{Q}} \\mathbb{E}_{q} \\left[\\ln \\left(\\frac{p(x,\\theta)}{q(\\theta)}\\right)\\right] = \\arg\\max_{q\\in\\mathcal{Q}} \\mathbb{E}_{q} \\left[\\ln p(x,\\theta) - \\ln q(\\theta)\\right].$$\n",
    "\n",
    "In particular, from now on the target model $p(x,\\theta)$ and the variational posterior $q(\\theta)$ will be parameterized by respectively $\\psi$ and $\\phi$, i.e.:\n",
    "\n",
    "$$p(x,\\theta) = p_\\psi(x,\\theta),$$\n",
    "$$q(\\theta) = q_\\phi(\\theta).$$\n",
    "\n",
    "Optimizing the ELBO via gradient descent thus requires computing:\n",
    "\n",
    "$$\\nabla_{\\psi, \\phi} ELBO = \\nabla_{\\psi, \\phi} \\mathbb{E}_{q_\\phi(\\theta)} \\left[\\ln p_\\psi(x,\\theta) - \\ln q_\\phi(\\theta)\\right].$$\n",
    "\n",
    "How to do that in practice? \n",
    "\n",
    "### The simple case: a sample from $q_\\phi(\\theta)$ is parameterized by a simpler known distribution.\n",
    "\n",
    "This is the case for Gaussian approximations $q_\\phi(\\theta) = N(\\mu,\\sigma^2)$ and $\\phi = (\\mu, \\sigma)$. A sample $\\theta' \\sim q_\\phi(\\theta)$ can be written as $\\theta' = g_\\phi(\\epsilon) = \\mu + \\epsilon \\sigma$, where $\\epsilon\\sim N(0,1)$.\n",
    "\n",
    "In this case, any function of the form $\\mathbb{E}_{q_\\phi(\\theta)} f_\\phi(\\theta)$ can be rewritten as \n",
    "\n",
    "$$\\mathbb{E}_{q_\\phi(\\theta)} f_\\phi(\\theta) = \\mathbb{E}_{q(\\epsilon)} (f_\\phi(g_\\phi(\\epsilon))$$\n",
    "\n",
    "and the gradient can be simply computed as \n",
    "\n",
    "$$\\nabla_\\phi  \\mathbb{E}_{q_\\phi(\\theta)} f_\\phi(\\theta) = \\mathbb{E}_{q_\\epsilon} \\nabla_\\phi (f_\\phi(g_\\phi(\\epsilon)).$$\n",
    "\n",
    "This gradient is simple to compute by chain rule, and the expectation can be approximated by Monte Carlo sampling.\n",
    "\n",
    "\n",
    "### The difficult case: a sample from $q_\\phi(\\theta)$ is non parameterizable\n",
    "\n",
    "In this case we need to do some math to obtain a suitable form for the estimation of the gradients $\\nabla_\\phi  \\mathbb{E}_{q_\\phi(\\theta)} f_\\phi(\\theta).$\n",
    "\n",
    "We go back to the expectation:\n",
    "\n",
    "$$\\nabla_\\phi  \\mathbb{E}_{q_\\phi(\\theta)} f_\\phi(\\theta) = \\nabla_\\phi  \\int_\\theta q_\\phi(\\theta) f_\\phi(\\theta) d\\theta $$\n",
    "\n",
    "and we apply the chain rule:\n",
    "\n",
    "$$\\nabla_\\phi  \\int_\\theta q_\\phi(\\theta) f_\\phi(\\theta) d\\theta =   \\int_\\theta \\nabla_\\phi \\left(q_\\phi(\\theta)\\right) f_\\phi(\\theta) + q_\\phi(\\theta) \\left(\\nabla_\\phi f_\\phi(\\theta) \\right)d\\theta $$\n",
    "\n",
    "We can easily handle the second term, since computing the expectation simply requires to Monte Carlo sampling of $q_\\phi(\\theta)$ to weight the gradients $\\nabla_\\phi f_\\phi(\\theta)$, which we are able to compute (for example by backpropagation).\n",
    "\n",
    "The problem is in the first term, since we don't know how to compute the gradients of the samples $\\nabla_\\phi q_\\phi(\\theta)$. We can resort to the chain rule to write the problem in a nicer form:\n",
    "\n",
    "$$ \\nabla_\\phi q_\\phi(\\theta) = q_\\phi(\\theta) \\nabla_\\phi \\ln(q_\\phi(\\theta)).$$\n",
    "\n",
    "This time, the gradient $\\nabla_\\phi \\ln(q_\\phi(\\theta))$ can be computed in close form and this latter quantity can be computed again by Monte Carlo sampling.\n",
    "\n",
    "Overall, the gradient will be obtained as:\n",
    "\n",
    "$$ \\nabla_\\phi \\mathbb{E}_{q_\\phi(\\theta)} f_\\phi(\\theta) = \\mathbb{E}_{q_\\phi(\\theta)} \\left[ \\left(\\nabla_\\phi \\ln(q_\\phi(\\theta))\\right) f_\\phi(\\theta)  + \\left(\\nabla_\\phi f_\\phi(\\theta)\\right) \\right]$$\n",
    "\n",
    "\n",
    "\n",
    "# Pyro (Simple way to make inference)\n",
    "\n",
    "Pyro is an open-source probabilistic programming language developed by Uber AI Labs, designed to seamlessly integrate deep learning with probabilistic modeling. Built on top of PyTorch, Pyro offers a powerful framework for constructing and evaluating complex probabilistic models. One of Pyro's core strengths lies in its support for variational inference, a method used to approximate intractable posterior distributions in Bayesian inference.\n",
    "\n",
    "Variational inference in Pyro allows users to estimate the posterior distribution of latent variables by optimizing a simpler, parameterized distribution to be as close as possible to the true posterior. This is achieved by minimizing the Kullback-Leibler (KL) divergence between the approximate and true distributions. Pyro provides a range of tools and abstractions to facilitate this process, making it easier to handle large-scale models and datasets.\n",
    "\n",
    "Pyro’s flexible and modular design supports various inference algorithms, including Stochastic Variational Inference (SVI), enabling users to perform inference in high-dimensional and non-conjugate models efficiently. By leveraging PyTorch’s automatic differentiation and GPU acceleration, Pyro ensures that the implementation of variational inference is both efficient and scalable.\n",
    "\n",
    "Whether you are working on complex hierarchical models, deep generative models, or reinforcement learning, Pyro’s robust variational inference capabilities empower you to build sophisticated models that can learn from data under uncertainty. This makes Pyro an invaluable tool for researchers and practitioners in fields such as machine learning, statistics, and artificial intelligence, where probabilistic reasoning and uncertainty quantification are crucial."
   ]
  },
  {
   "cell_type": "markdown",
   "metadata": {},
   "source": [
    "# Pyro VI Example (1)\n",
    "\n",
    "Implementing Variaitonal Inference with Pyro requires two functions: a model and a guide.\n",
    "\n",
    "1. **Model Function:**\n",
    "   The model function takes the data as input and defines the entire model:\n",
    "\n",
    "   - **Latent Variables:**\n",
    "     Introduce latent variables with their respective priors using:\n",
    "     ```python\n",
    "     z_prior = dist.name_of_prior_distribution()\n",
    "     z = pyro.sample('z', z_prior)\n",
    "     ```\n",
    "\n",
    "   - **Likelihood Function:**\n",
    "     Specify the likelihood function using:\n",
    "     ```python\n",
    "     with pyro.plate('data', len(data)):\n",
    "         pyro.sample('obs', dist.name_of_likelihood_distribution(), obs=data)\n",
    "     ```\n",
    "     For a list of distributions, refer to [Pyro Distributions](https://docs.pyro.ai/en/stable/distributions.html).\n",
    "\n",
    "2. **Guide Function:**\n",
    "   The guide function defines the variational posterior and takes the same input as the model:\n",
    "\n",
    "   - **Variational Parameters:**\n",
    "     Define the parameters for the variational posterior:\n",
    "     ```python\n",
    "     variational_parameter = pyro.param('variational_parameter', random_value_for_variational_parameter)\n",
    "     ```\n",
    "   \n",
    "   - **Variational Posterior:**\n",
    "     Specify the form of the variational posterior:\n",
    "     ```python\n",
    "     pyro.sample('z', dist.variational_posterior_distribution(variational_parameter))\n",
    "     ```\n",
    "\n",
    "3. **Optimisation Function**\n",
    "This function performs SVI (Stochastic Variational Inference) optimisation\n",
    "   ```python\n",
    "     svi = SVI(model, guide, optimizer, loss=Trace_ELBO())\n",
    "  ```"
   ]
  },
  {
   "cell_type": "markdown",
   "metadata": {},
   "source": [
    "### Example\n",
    "Consider a model where $p(x=x_{1:n} \\mid \\theta) \\sim \\mathcal{N}(\\theta, 1)$ and we consider each measurement independent, i.e. $x_i \\mid \\theta \\perp\\!\\!\\!\\!\\perp x_{j\\neq i}\\mid \\theta$. "
   ]
  },
  {
   "cell_type": "code",
   "execution_count": 61,
   "metadata": {},
   "outputs": [
    {
     "data": {
      "image/png": "[encoded data removed]",
      "text/plain": [
       "<Figure size 360x144 with 1 Axes>"
      ]
     },
     "metadata": {
      "needs_background": "light"
     },
     "output_type": "display_data"
    }
   ],
   "source": [
    "# Example data\n",
    "true_mean=5\n",
    "true_std=1\n",
    "n_samples=100\n",
    "x = true_mean + true_std*torch.randn(n_samples)# Generate n_samples random noisy data points with mean 5 and standard deviation 1\n",
    "\n",
    "# Plotting the histogram of the data\n",
    "plt.figure(figsize=(5, 2))  # Set the figure size\n",
    "sns.histplot(x, binrange=(0,10), bins=30, kde=True, stat='density', alpha=0.1)  # Plot the histogram with KDE\n",
    "plt.tight_layout()  # Adjust the layout to fit everything nicely\n",
    "plt.show()  # Display the plot"
   ]
  },
  {
   "cell_type": "markdown",
   "metadata": {},
   "source": [
    "Given the observations $x$, estimating a posterior for the mean $\\theta$ requires to specify likelihood and prior: \n",
    "- As likelihood we choose a Gaussian prior with $\\sigma=1$: $p(x|\\theta) =  \\mathcal{N}(\\theta, 1)$.\n",
    "- As prior we choose a Gaussian $p(\\theta) =  \\mathcal{N}(0, 1)$.\n",
    "\n",
    "\n",
    "By applying the Bayes theorem, we need to compute the posterior as:\n",
    "\n",
    "$$p(\\theta \\mid x_{1:n}) = \\frac{p(x_{1:n} \\mid \\theta) p(\\theta)}{\\int p(x_{1:n} \\mid \\theta) p(\\theta) \\, d\\theta}$$\n",
    "\n",
    "In the past lesson we have seen how to compute the posterior in close Gaussian form, and how to approximate the posterior with Laplace. \n",
    "\n",
    "Here we solve the same problem by using Variational Inference (VI). \n",
    "To apply VI we need to choose the family of distributions $\\mathcal{Q}$ we want to use to approximate the posterior. We set $\\mathcal{Q} = \\{q(\\theta) \\sim \\mathcal{N}(\\tilde\\mu, \\tilde\\sigma) \\mid \\tilde\\mu \\in \\mathbb{R}\\;\\&\\;\\tilde\\sigma \\in \\mathbb{R}^+\\}$. This means we approximate the posterior distribution with a Gaussian distribution. The goal is to find the optimal parameters for this Gaussian distribution."
   ]
  },
  {
   "cell_type": "code",
   "execution_count": 62,
   "metadata": {},
   "outputs": [
    {
     "name": "stdout",
     "output_type": "stream",
     "text": [
      "Requirement already satisfied: graphviz in /Users/mlorenzi/miniconda3/lib/python3.6/site-packages (0.19.1)\r\n"
     ]
    }
   ],
   "source": [
    "!pip install graphviz"
   ]
  },
  {
   "cell_type": "code",
   "execution_count": 64,
   "metadata": {},
   "outputs": [
    {
     "data": {
      "image/svg+xml": [
       "<?xml version=\"1.0\" encoding=\"UTF-8\" standalone=\"no\"?>\n",
       "<!DOCTYPE svg PUBLIC \"-//W3C//DTD SVG 1.1//EN\"\n",
       " \"http://www.w3.org/Graphics/SVG/1.1/DTD/svg11.dtd\">\n",
       "<!-- Generated by graphviz version 11.0.0 (20240428.1522)\n",
       " -->\n",
       "<!-- Pages: 1 -->\n",
       "<svg width=\"94pt\" height=\"157pt\"\n",
       " viewBox=\"0.00 0.00 94.00 156.50\" xmlns=\"http://www.w3.org/2000/svg\" xmlns:xlink=\"http://www.w3.org/1999/xlink\">\n",
       "<g id=\"graph0\" class=\"graph\" transform=\"scale(1 1) rotate(0) translate(4 152.5)\">\n",
       "<polygon fill=\"white\" stroke=\"none\" points=\"-4,4 -4,-152.5 90,-152.5 90,4 -4,4\"/>\n",
       "<g id=\"clust1\" class=\"cluster\">\n",
       "<title>cluster_data</title>\n",
       "<polygon fill=\"none\" stroke=\"black\" points=\"8,-8 8,-84.5 78,-84.5 78,-8 8,-8\"/>\n",
       "<text text-anchor=\"middle\" x=\"58.75\" y=\"-15.2\" font-family=\"Times,serif\" font-size=\"14.00\">data</text>\n",
       "</g>\n",
       "<!-- theta -->\n",
       "<g id=\"node1\" class=\"node\">\n",
       "<title>theta</title>\n",
       "<ellipse fill=\"white\" stroke=\"black\" cx=\"43\" cy=\"-130.5\" rx=\"28.83\" ry=\"18\"/>\n",
       "<text text-anchor=\"middle\" x=\"43\" y=\"-125.45\" font-family=\"Times,serif\" font-size=\"14.00\">theta</text>\n",
       "</g>\n",
       "<!-- obs -->\n",
       "<g id=\"node2\" class=\"node\">\n",
       "<title>obs</title>\n",
       "<ellipse fill=\"grey\" stroke=\"black\" cx=\"43\" cy=\"-58.5\" rx=\"27\" ry=\"18\"/>\n",
       "<text text-anchor=\"middle\" x=\"43\" y=\"-53.45\" font-family=\"Times,serif\" font-size=\"14.00\">obs</text>\n",
       "</g>\n",
       "<!-- theta&#45;&gt;obs -->\n",
       "<g id=\"edge1\" class=\"edge\">\n",
       "<title>theta&#45;&gt;obs</title>\n",
       "<path fill=\"none\" stroke=\"black\" d=\"M43,-112.2C43,-104.91 43,-96.23 43,-88.04\"/>\n",
       "<polygon fill=\"black\" stroke=\"black\" points=\"46.5,-88.12 43,-78.12 39.5,-88.12 46.5,-88.12\"/>\n",
       "</g>\n",
       "</g>\n",
       "</svg>\n"
      ],
      "text/plain": [
       "<graphviz.graphs.Digraph at 0x7fe61a719a58>"
      ]
     },
     "execution_count": 64,
     "metadata": {},
     "output_type": "execute_result"
    }
   ],
   "source": [
    "# The model defines the actual posterior by specifying prior and likelihood.\n",
    "# We need to define how observations are sampled from it.\n",
    "\n",
    "def model(x):\n",
    "    # Introduce a prior on the latent variable theta\n",
    "    theta_prior = dist.Normal(0.0, 1.0)  # Normal prior distribution over theta\n",
    "    theta = pyro.sample('theta', theta_prior)  # Sample theta from the prior distribution\n",
    "\n",
    "    # Define the likelihood function; 'pyro.plate' is used to indicate a batch of data points\n",
    "    with pyro.plate('data', len(x)):\n",
    "        # Sample the observed data from a Normal distribution with mean theta and standard deviation 1\n",
    "        pyro.sample('obs', dist.Normal(theta, 1.0), obs=x)\n",
    "        \n",
    "pyro.render_model(model, model_args=(x,))"
   ]
  },
  {
   "cell_type": "code",
   "execution_count": 65,
   "metadata": {},
   "outputs": [],
   "source": [
    "# The guide defines the variational distribution and how observations are sampled from it\n",
    "\n",
    "def guide(x):\n",
    "    # Here we create a mu and sigma for the Gaussian variational approximation\n",
    "    tilde_mu = pyro.param('tilde_mu', torch.randn(1))  # Initialize tilde_mu for the variational distribution\n",
    "    tilde_sigma = pyro.param('tilde_sigma', torch.exp(torch.randn(1)), constraint=dist.constraints.positive)  # Initialize tilde_sigma for the variational distribution, ensuring positivity\n",
    "\n",
    "    # Sample z from the variational distribution\n",
    "    pyro.sample('theta', dist.Normal(tilde_mu, tilde_sigma))\n",
    "    \n",
    "  "
   ]
  },
  {
   "cell_type": "code",
   "execution_count": 66,
   "metadata": {},
   "outputs": [],
   "source": [
    "# At this point we can write an optimization routine as we do in PyTorch\n",
    "\n",
    "def optimisation(x, n_steps=1000, lr=1e-3):\n",
    "    # Clear any existing parameters in the Pyro parameter store\n",
    "    pyro.clear_param_store()\n",
    "\n",
    "    # Define the optimizer and SVI\n",
    "    adam_params = {'lr': lr}  # Set learning rate for the Adam optimizer\n",
    "    optimizer = Adam(adam_params)  # Initialize the Adam optimizer for the optimization of the ELBO\n",
    "    svi = SVI(model, guide, optimizer, loss=Trace_ELBO())  # Initialize SVI with the model, guide, optimizer, and loss function as the ELBO\n",
    "    \n",
    "    losses = []  # List to store loss values\n",
    "\n",
    "    # Perform optimization\n",
    "    for step in range(n_steps):\n",
    "        loss = svi.step(x)  # Perform a single optimization step\n",
    "        \n",
    "        # Record the loss\n",
    "        losses.append(loss)  # Append the loss to the list\n",
    "        \n",
    "        # Print progress every 500 steps\n",
    "        if (step + 1) % 500 == 0:\n",
    "            print(f'Step {step + 1} - Loss: {loss:.2f}')\n",
    "\n",
    "    return pyro.param('tilde_mu').item(), pyro.param('tilde_sigma').item(), losses"
   ]
  },
  {
   "cell_type": "code",
   "execution_count": 67,
   "metadata": {},
   "outputs": [
    {
     "name": "stdout",
     "output_type": "stream",
     "text": [
      "Step 500 - Loss: 197.39\n",
      "Step 1000 - Loss: 161.10\n",
      "Step 1500 - Loss: 159.78\n",
      "Step 2000 - Loss: 161.67\n",
      "Step 2500 - Loss: 160.13\n",
      "Step 3000 - Loss: 160.12\n",
      "Step 3500 - Loss: 160.17\n",
      "Step 4000 - Loss: 160.36\n",
      "Step 4500 - Loss: 160.21\n",
      "Step 5000 - Loss: 160.23\n"
     ]
    }
   ],
   "source": [
    "# Perform the optimisation\n",
    "tilde_mu, tilde_sigma, losses = optimisation(x, n_steps=5000, lr=1e-2)"
   ]
  },
  {
   "cell_type": "code",
   "execution_count": 68,
   "metadata": {},
   "outputs": [
    {
     "data": {
      "image/png": "[encoded data removed]",
      "text/plain": [
       "<Figure size 864x216 with 2 Axes>"
      ]
     },
     "metadata": {
      "needs_background": "light"
     },
     "output_type": "display_data"
    }
   ],
   "source": [
    "# Plot the solution and the loss over time\n",
    "fig,ax=plt.subplots(1,2,figsize=(12,3))\n",
    "plt.sca(ax[0])\n",
    "plt.plot(losses)\n",
    "plt.xlabel('Step')\n",
    "plt.title('Loss')\n",
    "\n",
    "plt.sca(ax[1])\n",
    "z=torch.linspace(-2, 10, 1000)\n",
    "q=scipy.stats.norm.pdf(x=z, loc=tilde_mu, scale=tilde_sigma)\n",
    "plt.plot(z, q)\n",
    "plt.xlabel(r'z')\n",
    "plt.title(r'$q(z)$')\n",
    "\n",
    "plt.tight_layout()\n",
    "plt.show()"
   ]
  },
  {
   "cell_type": "markdown",
   "metadata": {},
   "source": [
    "We compare the solution with the Laplace approximation "
   ]
  },
  {
   "cell_type": "code",
   "execution_count": 69,
   "metadata": {},
   "outputs": [
    {
     "name": "stdout",
     "output_type": "stream",
     "text": [
      "      fun: 158.80684733773842\n",
      " hess_inv: array([[0.00990099]])\n",
      "      jac: array([-1.90734863e-06])\n",
      "  message: 'Optimization terminated successfully.'\n",
      "     nfev: 10\n",
      "      nit: 4\n",
      "     njev: 5\n",
      "   status: 0\n",
      "  success: True\n",
      "        x: array([4.9860597])\n"
     ]
    }
   ],
   "source": [
    "%run tools.py\n",
    "\n",
    "# We specify a likelihood N(\\mu, \\sigma^2)\n",
    "\n",
    "# initial values for the parameters mu and sigma2\n",
    "mu = 0.\n",
    "sigma = 2.\n",
    "\n",
    "# Initializing the likelihood\n",
    "likelihood = 'gaussian'\n",
    "parameters = [mu, sigma]\n",
    "\n",
    "# Defining the prior with hyperparameters \n",
    "prior_mu_mean = 0\n",
    "prior_mu_sigma = 1\n",
    "prior_mu = ['gaussian', [prior_mu_mean, prior_mu_sigma]]\n",
    "\n",
    "solution = laplace_solution([mu], [1], x, likelihood, [prior_mu])\n"
   ]
  },
  {
   "cell_type": "code",
   "execution_count": 70,
   "metadata": {},
   "outputs": [],
   "source": [
    "from scipy.stats import gaussian_kde\n",
    "\n",
    "posterior_samples = multivariate_normal.rvs(solution[0], solution[1], size = 10000)\n",
    "density = gaussian_kde(posterior_samples)"
   ]
  },
  {
   "cell_type": "markdown",
   "metadata": {},
   "source": [
    "What about the actual posterior $p(\\theta|\\mid x_{1:n})$?\n",
    "\n",
    "In this particular example we can evaluate it analitically: \n",
    "\n",
    "$$p(\\theta\\mid x_{1:n})= \\frac{\\prod_{i=1}^n \\frac{1}{\\sqrt{2\\pi}}\\exp\\left(-\\frac{1}{2}\\left(x_{i}-\\theta\\right)^2\\right)\\frac{1}{\\sqrt{2\\pi}}\\exp\\left(-\\frac{1}{2}\\theta^2\\right)}{\\int \\frac{1}{\\sqrt{2\\pi}\\sigma}\\prod_{i=1}^n\\exp\\left(-\\frac{1}{2}\\left(x_{i}-\\theta\\right)^2\\right) d\\theta}\\propto \\prod_{i=1}^n\\exp\\left(-\\frac{1}{2}\\left(x_{i}-\\theta\\right)^2\\right)\\exp\\left(-\\frac{1}{2}\\theta^2\\right)$$"
   ]
  },
  {
   "cell_type": "code",
   "execution_count": 71,
   "metadata": {},
   "outputs": [],
   "source": [
    "def log_true_posterior(theta,x):\n",
    "    return torch.sum(-0.5*torch.square((x-theta)))-0.5*torch.square(theta)"
   ]
  },
  {
   "cell_type": "code",
   "execution_count": 72,
   "metadata": {},
   "outputs": [
    {
     "ename": "ValueError",
     "evalue": "x and y must have same first dimension, but have shapes torch.Size([100]) and (1000,)",
     "output_type": "error",
     "traceback": [
      "\u001b[0;31m---------------------------------------------------------------------------\u001b[0m",
      "\u001b[0;31mValueError\u001b[0m                                Traceback (most recent call last)",
      "\u001b[0;32m<ipython-input-72-e56cf1b7d6b8>\u001b[0m in \u001b[0;36m<module>\u001b[0;34m\u001b[0m\n\u001b[1;32m      7\u001b[0m \u001b[0;34m\u001b[0m\u001b[0m\n\u001b[1;32m      8\u001b[0m \u001b[0mplt\u001b[0m\u001b[0;34m.\u001b[0m\u001b[0mfigure\u001b[0m\u001b[0;34m(\u001b[0m\u001b[0mfigsize\u001b[0m\u001b[0;34m=\u001b[0m\u001b[0;34m(\u001b[0m\u001b[0;36m10\u001b[0m\u001b[0;34m,\u001b[0m\u001b[0;36m3\u001b[0m\u001b[0;34m)\u001b[0m\u001b[0;34m)\u001b[0m\u001b[0;34m\u001b[0m\u001b[0;34m\u001b[0m\u001b[0m\n\u001b[0;32m----> 9\u001b[0;31m \u001b[0mplt\u001b[0m\u001b[0;34m.\u001b[0m\u001b[0mplot\u001b[0m\u001b[0;34m(\u001b[0m\u001b[0mtheta\u001b[0m\u001b[0;34m,\u001b[0m \u001b[0mq\u001b[0m\u001b[0;34m/\u001b[0m\u001b[0mq\u001b[0m\u001b[0;34m.\u001b[0m\u001b[0mmax\u001b[0m\u001b[0;34m(\u001b[0m\u001b[0;34m)\u001b[0m\u001b[0;34m,\u001b[0m \u001b[0mlabel\u001b[0m\u001b[0;34m=\u001b[0m\u001b[0;34mr'Variational Posterior: $q(\\theta)$'\u001b[0m\u001b[0;34m)\u001b[0m\u001b[0;34m\u001b[0m\u001b[0;34m\u001b[0m\u001b[0m\n\u001b[0m\u001b[1;32m     10\u001b[0m \u001b[0mplt\u001b[0m\u001b[0;34m.\u001b[0m\u001b[0mplot\u001b[0m\u001b[0;34m(\u001b[0m\u001b[0mtheta\u001b[0m\u001b[0;34m,\u001b[0m\u001b[0mtorch\u001b[0m\u001b[0;34m.\u001b[0m\u001b[0mexp\u001b[0m\u001b[0;34m(\u001b[0m\u001b[0mlog_p\u001b[0m\u001b[0;34m)\u001b[0m\u001b[0;34m,\u001b[0m \u001b[0mlabel\u001b[0m\u001b[0;34m=\u001b[0m\u001b[0;34mr'True Posterior $p(\\theta\\mid x)$'\u001b[0m\u001b[0;34m)\u001b[0m\u001b[0;34m\u001b[0m\u001b[0;34m\u001b[0m\u001b[0m\n\u001b[1;32m     11\u001b[0m \u001b[0mplt\u001b[0m\u001b[0;34m.\u001b[0m\u001b[0mplot\u001b[0m\u001b[0;34m(\u001b[0m\u001b[0mtheta\u001b[0m\u001b[0;34m,\u001b[0m \u001b[0mdensity\u001b[0m\u001b[0;34m(\u001b[0m\u001b[0mtheta\u001b[0m\u001b[0;34m)\u001b[0m\u001b[0;34m/\u001b[0m\u001b[0mdensity\u001b[0m\u001b[0;34m(\u001b[0m\u001b[0mtheta\u001b[0m\u001b[0;34m)\u001b[0m\u001b[0;34m.\u001b[0m\u001b[0mmax\u001b[0m\u001b[0;34m(\u001b[0m\u001b[0;34m)\u001b[0m\u001b[0;34m,\u001b[0m \u001b[0mlabel\u001b[0m\u001b[0;34m=\u001b[0m\u001b[0;34mr'Laplace Posterior $q(\\theta\\mid x)$'\u001b[0m\u001b[0;34m)\u001b[0m\u001b[0;34m\u001b[0m\u001b[0;34m\u001b[0m\u001b[0m\n",
      "\u001b[0;32m~/miniconda3/lib/python3.6/site-packages/matplotlib/pyplot.py\u001b[0m in \u001b[0;36mplot\u001b[0;34m(scalex, scaley, data, *args, **kwargs)\u001b[0m\n\u001b[1;32m   2840\u001b[0m     return gca().plot(\n\u001b[1;32m   2841\u001b[0m         \u001b[0;34m*\u001b[0m\u001b[0margs\u001b[0m\u001b[0;34m,\u001b[0m \u001b[0mscalex\u001b[0m\u001b[0;34m=\u001b[0m\u001b[0mscalex\u001b[0m\u001b[0;34m,\u001b[0m \u001b[0mscaley\u001b[0m\u001b[0;34m=\u001b[0m\u001b[0mscaley\u001b[0m\u001b[0;34m,\u001b[0m\u001b[0;34m\u001b[0m\u001b[0;34m\u001b[0m\u001b[0m\n\u001b[0;32m-> 2842\u001b[0;31m         **({\"data\": data} if data is not None else {}), **kwargs)\n\u001b[0m\u001b[1;32m   2843\u001b[0m \u001b[0;34m\u001b[0m\u001b[0m\n\u001b[1;32m   2844\u001b[0m \u001b[0;34m\u001b[0m\u001b[0m\n",
      "\u001b[0;32m~/miniconda3/lib/python3.6/site-packages/matplotlib/axes/_axes.py\u001b[0m in \u001b[0;36mplot\u001b[0;34m(self, scalex, scaley, data, *args, **kwargs)\u001b[0m\n\u001b[1;32m   1741\u001b[0m         \"\"\"\n\u001b[1;32m   1742\u001b[0m         \u001b[0mkwargs\u001b[0m \u001b[0;34m=\u001b[0m \u001b[0mcbook\u001b[0m\u001b[0;34m.\u001b[0m\u001b[0mnormalize_kwargs\u001b[0m\u001b[0;34m(\u001b[0m\u001b[0mkwargs\u001b[0m\u001b[0;34m,\u001b[0m \u001b[0mmlines\u001b[0m\u001b[0;34m.\u001b[0m\u001b[0mLine2D\u001b[0m\u001b[0;34m)\u001b[0m\u001b[0;34m\u001b[0m\u001b[0;34m\u001b[0m\u001b[0m\n\u001b[0;32m-> 1743\u001b[0;31m         \u001b[0mlines\u001b[0m \u001b[0;34m=\u001b[0m \u001b[0;34m[\u001b[0m\u001b[0;34m*\u001b[0m\u001b[0mself\u001b[0m\u001b[0;34m.\u001b[0m\u001b[0m_get_lines\u001b[0m\u001b[0;34m(\u001b[0m\u001b[0;34m*\u001b[0m\u001b[0margs\u001b[0m\u001b[0;34m,\u001b[0m \u001b[0mdata\u001b[0m\u001b[0;34m=\u001b[0m\u001b[0mdata\u001b[0m\u001b[0;34m,\u001b[0m \u001b[0;34m**\u001b[0m\u001b[0mkwargs\u001b[0m\u001b[0;34m)\u001b[0m\u001b[0;34m]\u001b[0m\u001b[0;34m\u001b[0m\u001b[0;34m\u001b[0m\u001b[0m\n\u001b[0m\u001b[1;32m   1744\u001b[0m         \u001b[0;32mfor\u001b[0m \u001b[0mline\u001b[0m \u001b[0;32min\u001b[0m \u001b[0mlines\u001b[0m\u001b[0;34m:\u001b[0m\u001b[0;34m\u001b[0m\u001b[0;34m\u001b[0m\u001b[0m\n\u001b[1;32m   1745\u001b[0m             \u001b[0mself\u001b[0m\u001b[0;34m.\u001b[0m\u001b[0madd_line\u001b[0m\u001b[0;34m(\u001b[0m\u001b[0mline\u001b[0m\u001b[0;34m)\u001b[0m\u001b[0;34m\u001b[0m\u001b[0;34m\u001b[0m\u001b[0m\n",
      "\u001b[0;32m~/miniconda3/lib/python3.6/site-packages/matplotlib/axes/_base.py\u001b[0m in \u001b[0;36m__call__\u001b[0;34m(self, data, *args, **kwargs)\u001b[0m\n\u001b[1;32m    271\u001b[0m                 \u001b[0mthis\u001b[0m \u001b[0;34m+=\u001b[0m \u001b[0margs\u001b[0m\u001b[0;34m[\u001b[0m\u001b[0;36m0\u001b[0m\u001b[0;34m]\u001b[0m\u001b[0;34m,\u001b[0m\u001b[0;34m\u001b[0m\u001b[0;34m\u001b[0m\u001b[0m\n\u001b[1;32m    272\u001b[0m                 \u001b[0margs\u001b[0m \u001b[0;34m=\u001b[0m \u001b[0margs\u001b[0m\u001b[0;34m[\u001b[0m\u001b[0;36m1\u001b[0m\u001b[0;34m:\u001b[0m\u001b[0;34m]\u001b[0m\u001b[0;34m\u001b[0m\u001b[0;34m\u001b[0m\u001b[0m\n\u001b[0;32m--> 273\u001b[0;31m             \u001b[0;32myield\u001b[0m \u001b[0;32mfrom\u001b[0m \u001b[0mself\u001b[0m\u001b[0;34m.\u001b[0m\u001b[0m_plot_args\u001b[0m\u001b[0;34m(\u001b[0m\u001b[0mthis\u001b[0m\u001b[0;34m,\u001b[0m \u001b[0mkwargs\u001b[0m\u001b[0;34m)\u001b[0m\u001b[0;34m\u001b[0m\u001b[0;34m\u001b[0m\u001b[0m\n\u001b[0m\u001b[1;32m    274\u001b[0m \u001b[0;34m\u001b[0m\u001b[0m\n\u001b[1;32m    275\u001b[0m     \u001b[0;32mdef\u001b[0m \u001b[0mget_next_color\u001b[0m\u001b[0;34m(\u001b[0m\u001b[0mself\u001b[0m\u001b[0;34m)\u001b[0m\u001b[0;34m:\u001b[0m\u001b[0;34m\u001b[0m\u001b[0;34m\u001b[0m\u001b[0m\n",
      "\u001b[0;32m~/miniconda3/lib/python3.6/site-packages/matplotlib/axes/_base.py\u001b[0m in \u001b[0;36m_plot_args\u001b[0;34m(self, tup, kwargs)\u001b[0m\n\u001b[1;32m    397\u001b[0m \u001b[0;34m\u001b[0m\u001b[0m\n\u001b[1;32m    398\u001b[0m         \u001b[0;32mif\u001b[0m \u001b[0mx\u001b[0m\u001b[0;34m.\u001b[0m\u001b[0mshape\u001b[0m\u001b[0;34m[\u001b[0m\u001b[0;36m0\u001b[0m\u001b[0;34m]\u001b[0m \u001b[0;34m!=\u001b[0m \u001b[0my\u001b[0m\u001b[0;34m.\u001b[0m\u001b[0mshape\u001b[0m\u001b[0;34m[\u001b[0m\u001b[0;36m0\u001b[0m\u001b[0;34m]\u001b[0m\u001b[0;34m:\u001b[0m\u001b[0;34m\u001b[0m\u001b[0;34m\u001b[0m\u001b[0m\n\u001b[0;32m--> 399\u001b[0;31m             raise ValueError(f\"x and y must have same first dimension, but \"\n\u001b[0m\u001b[1;32m    400\u001b[0m                              f\"have shapes {x.shape} and {y.shape}\")\n\u001b[1;32m    401\u001b[0m         \u001b[0;32mif\u001b[0m \u001b[0mx\u001b[0m\u001b[0;34m.\u001b[0m\u001b[0mndim\u001b[0m \u001b[0;34m>\u001b[0m \u001b[0;36m2\u001b[0m \u001b[0;32mor\u001b[0m \u001b[0my\u001b[0m\u001b[0;34m.\u001b[0m\u001b[0mndim\u001b[0m \u001b[0;34m>\u001b[0m \u001b[0;36m2\u001b[0m\u001b[0;34m:\u001b[0m\u001b[0;34m\u001b[0m\u001b[0;34m\u001b[0m\u001b[0m\n",
      "\u001b[0;31mValueError\u001b[0m: x and y must have same first dimension, but have shapes torch.Size([100]) and (1000,)"
     ]
    },
    {
     "data": {
      "image/png": "[encoded data removed]",
      "text/plain": [
       "<Figure size 720x216 with 1 Axes>"
      ]
     },
     "metadata": {
      "needs_background": "light"
     },
     "output_type": "display_data"
    }
   ],
   "source": [
    "theta=torch.linspace(4, 5.5, 100)\n",
    "\n",
    "q=scipy.stats.norm.pdf(x=z, loc=tilde_mu, scale=tilde_sigma)\n",
    "\n",
    "log_p=torch.tensor([log_true_posterior(_theta,x) for _theta in theta])\n",
    "log_p-=log_p.max()\n",
    "\n",
    "plt.figure(figsize=(10,3))\n",
    "plt.plot(theta, q/q.max(), label=r'Variational Posterior: $q(\\theta)$')\n",
    "plt.plot(theta,torch.exp(log_p), label=r'True Posterior $p(\\theta\\mid x)$')\n",
    "plt.plot(theta, density(theta)/density(theta).max(), label=r'Laplace Posterior $q(\\theta\\mid x)$')\n",
    "plt.xlabel(r'\\theta')\n",
    "plt.legend()\n",
    "plt.title('Comparison')\n",
    "\n",
    "plt.tight_layout()\n",
    "plt.show()"
   ]
  },
  {
   "cell_type": "markdown",
   "metadata": {},
   "source": [
    "# Change of variational posterior\n",
    "\n",
    "But we are not forced to use Gaussian variational distributions, we can use the faimly of distributions we want. Fore instance we can approximate our model considering $\\mathcal{Q} = \\{\\Gamma(\\alpha,\\beta) | \\alpha \\in \\mathbb{R}^{+}, \\beta\\in\\mathbb{R}^{+}\\}$"
   ]
  },
  {
   "cell_type": "code",
   "execution_count": null,
   "metadata": {},
   "outputs": [],
   "source": [
    "def model(x):\n",
    "    # Introduce a prior on the latent variable z\n",
    "    z_prior = dist.Normal(0.0, 1.0)  # Normal prior distribution over z\n",
    "    z = pyro.sample('z', z_prior)  # Sample z from the prior distribution\n",
    "\n",
    "    # Define the likelihood function; 'pyro.plate' is used to indicate a batch of data points\n",
    "    with pyro.plate('data', len(x)):\n",
    "        # Sample the observed data from a Normal distribution with mean z and standard deviation 1\n",
    "        pyro.sample('obs', dist.Normal(z, 1.0), obs=x)\n",
    "\n",
    "def guide(x):\n",
    "    # Define parameters for the variational distribution\n",
    "    tilde_alpha = pyro.param('tilde_alpha', torch.exp(torch.randn(1)), constraint=dist.constraints.positive)  # Initialize tilde_alpha for the variational distribution, ensuring positivity\n",
    "    tilde_beta = pyro.param('tilde_beta', torch.exp(torch.randn(1)), constraint=dist.constraints.positive)  # Initialize tilde_beta for the variational distribution, ensuring positivity\n",
    "\n",
    "    # Sample z from the variational distribution\n",
    "    pyro.sample('z', dist.Gamma(tilde_alpha, tilde_beta))\n",
    "\n",
    "def optimisation(x, n_steps=1000, lr=1e-2):\n",
    "    # Clear any existing parameters in the Pyro parameter store\n",
    "    pyro.clear_param_store()\n",
    "\n",
    "    # Define the optimizer and SVI\n",
    "    adam_params = {'lr': lr}  # Set learning rate for the Adam optimizer\n",
    "    optimizer = Adam(adam_params)  # Initialize the Adam optimizer for the optimization of the ELBO\n",
    "    svi = SVI(model, guide, optimizer, loss=Trace_ELBO())  # Initialize SVI with the model, guide, optimizer, and loss function as the ELBO\n",
    "    \n",
    "    losses = []  # List to store loss values\n",
    "\n",
    "    # Perform optimization\n",
    "    for step in range(n_steps):\n",
    "        loss = svi.step(x)  # Perform a single optimization step\n",
    "        \n",
    "        # Record the loss\n",
    "        losses.append(loss)  # Append the loss to the list\n",
    "        \n",
    "        # Print progress every 500 steps\n",
    "        if (step + 1) % 500 == 0:\n",
    "            print(f'Step {step + 1} - Loss: {loss:.2f}')\n",
    "\n",
    "    return pyro.param('tilde_alpha').item(), pyro.param('tilde_beta').item(), losses"
   ]
  },
  {
   "cell_type": "code",
   "execution_count": null,
   "metadata": {},
   "outputs": [],
   "source": [
    "# Perform the optimisation\n",
    "tilde_alpha, tilde_beta, losses = optimisation(x, n_steps=10000, lr=1e-3)"
   ]
  },
  {
   "cell_type": "code",
   "execution_count": null,
   "metadata": {},
   "outputs": [],
   "source": [
    "# Plot the solution and the loss over time\n",
    "fig,ax=plt.subplots(1,2,figsize=(12,3))\n",
    "plt.sca(ax[0])\n",
    "plt.plot(losses)\n",
    "plt.xlabel('Step')\n",
    "plt.title('Loss')\n",
    "\n",
    "plt.sca(ax[1])\n",
    "z=torch.linspace(-2, 10, 1000)\n",
    "q=scipy.stats.gamma.pdf(x=z, a=tilde_alpha, scale=1/tilde_beta)\n",
    "plt.plot(z, q)\n",
    "plt.xlabel(r'z')\n",
    "plt.title(r'$q(z)$')\n",
    "\n",
    "plt.tight_layout()\n",
    "plt.show()"
   ]
  },
  {
   "cell_type": "code",
   "execution_count": null,
   "metadata": {},
   "outputs": [],
   "source": [
    "z=torch.linspace(-2, 10, 1000)\n",
    "\n",
    "q=scipy.stats.gamma.pdf(x=z, a=tilde_alpha, scale=1/tilde_beta)\n",
    "\n",
    "log_p=torch.tensor([log_true_posterior(_z,x) for _z in z])\n",
    "log_p-=log_p.max()\n",
    "\n",
    "plt.figure(figsize=(10,3))\n",
    "plt.plot(z, q/q.max(), label=r'Variational Posterior: $q(z)$')\n",
    "plt.plot(z,torch.exp(log_p), label=r'True Posterior $p(z\\mid x)$')\n",
    "plt.xlabel(r'z')\n",
    "plt.legend()\n",
    "plt.title('Comparison')\n",
    "\n",
    "plt.tight_layout()\n",
    "plt.show()"
   ]
  },
  {
   "cell_type": "markdown",
   "metadata": {},
   "source": [
    "# Generalise the code"
   ]
  },
  {
   "cell_type": "code",
   "execution_count": 73,
   "metadata": {},
   "outputs": [],
   "source": [
    "def model(x):\n",
    "    # Introduce a prior on the latent variable z\n",
    "    z_prior = dist.Normal(0.0, 1.0)  # Normal prior distribution over z\n",
    "    z = pyro.sample('z', z_prior)\n",
    "\n",
    "    # Define the likelihood function\n",
    "    with pyro.plate('data', len(x)):\n",
    "        pyro.sample('obs', dist.Normal(z, 1.0), obs=x)\n",
    "\n",
    "def guide(x, variational_posterior='Gaussian'):\n",
    "    if variational_posterior == 'Gaussian':\n",
    "        tilde_mu = pyro.param('tilde_mu', torch.randn(1) * 10.0)\n",
    "        tilde_sigma = pyro.param('tilde_sigma', torch.exp(torch.randn(1)), constraint=dist.constraints.positive)\n",
    "        pyro.sample('z', dist.Normal(tilde_mu, tilde_sigma))\n",
    "\n",
    "    elif variational_posterior == 'Gamma':\n",
    "        tilde_alpha = pyro.param('tilde_alpha', torch.exp(torch.randn(1)), constraint=dist.constraints.positive)\n",
    "        tilde_beta = pyro.param('tilde_beta', torch.exp(torch.randn(1)), constraint=dist.constraints.positive)\n",
    "        pyro.sample('z', dist.Gamma(tilde_alpha, tilde_beta))\n",
    "\n",
    "    elif variational_posterior=='Exponential':\n",
    "        tilde_lambda = pyro.param('tilde_lambda', torch.exp(torch.randn(1)), constraint=dist.constraints.positive)\n",
    "        pyro.sample('z', dist.Exponential(tilde_lambda))\n",
    "    else:\n",
    "        raise ValueError(\"Unsupported variational posterior. Choose 'Gaussian' or 'Gamma'.\")\n",
    "\n",
    "def optimisation(x, variational_posterior='Gaussian', n_steps=1000, lr=1e-2):\n",
    "    pyro.clear_param_store()\n",
    "\n",
    "    optimizer = Adam({'lr': lr})\n",
    "    svi = SVI(model, lambda x: guide(x, variational_posterior), optimizer, loss=Trace_ELBO())\n",
    "    \n",
    "    losses = []\n",
    "\n",
    "    # Perform optimization with tqdm progress bar\n",
    "    progress_bar = tqdm.tqdm(range(n_steps), desc=\"Training\", leave=True)\n",
    "    for step in progress_bar:\n",
    "        loss = svi.step(x)\n",
    "        losses.append(loss)\n",
    "        if (step+1) % 500 == 0: progress_bar.set_postfix(loss=loss)\n",
    "    \n",
    "    parameters = {p_name: pyro.param(p_name).item() for p_name in pyro.get_param_store().keys()}\n",
    "    \n",
    "    return parameters, losses\n",
    "\n",
    "def plot_solution(parameters, x, z, variational_posterior=None):\n",
    "\n",
    "    if variational_posterior=='Gamma':\n",
    "        q=scipy.stats.gamma.pdf(x=z, a=parameters['tilde_alpha'], scale=1/parameters['tilde_beta'])\n",
    "    if variational_posterior=='Gaussian':\n",
    "        q=scipy.stats.norm.pdf(x=z, loc=parameters['tilde_mu'], scale=parameters['tilde_sigma'])\n",
    "    if variational_posterior=='Exponential':\n",
    "        q=scipy.stats.expon.pdf(x=z, loc=parameters['tilde_lambda'])\n",
    "\n",
    "\n",
    "    log_p=torch.tensor([log_true_posterior(_z,x) for _z in z])\n",
    "    log_p-=log_p.max()\n",
    "    true_post_p=torch.exp(log_p)\n",
    "\n",
    "    plt.figure(figsize=(10,3))\n",
    "    plt.plot(z, q/q.max(), label=r'Variational Posterior: $q(z)$')\n",
    "    plt.plot(z,true_post_p, label=r'True Posterior $p(z\\mid x)$')\n",
    "    plt.xlabel(r'z')\n",
    "    plt.legend()\n",
    "    plt.title('Comparison')\n",
    "\n",
    "    plt.tight_layout()\n",
    "    plt.show()"
   ]
  },
  {
   "cell_type": "code",
   "execution_count": 74,
   "metadata": {},
   "outputs": [
    {
     "name": "stderr",
     "output_type": "stream",
     "text": [
      "Training: 100%|██████████| 10000/10000 [00:08<00:00, 1206.42it/s, loss=160]\n"
     ]
    },
    {
     "data": {
      "image/png": "[encoded data removed]",
      "text/plain": [
       "<Figure size 720x216 with 1 Axes>"
      ]
     },
     "metadata": {
      "needs_background": "light"
     },
     "output_type": "display_data"
    }
   ],
   "source": [
    "# Perform the optimisation\n",
    "variational_posterior='Gaussian'\n",
    "parameters_gaussian, losses_gaussian = optimisation(x, variational_posterior, n_steps=10000, lr=1e-2)\n",
    "plot_solution(parameters_gaussian, x, z=torch.linspace(-2, 10, 1000), variational_posterior=variational_posterior)"
   ]
  },
  {
   "cell_type": "code",
   "execution_count": 75,
   "metadata": {},
   "outputs": [
    {
     "name": "stderr",
     "output_type": "stream",
     "text": [
      "Training: 100%|██████████| 10000/10000 [00:07<00:00, 1258.04it/s, loss=171]\n"
     ]
    },
    {
     "data": {
      "image/png": "[encoded data removed]",
      "text/plain": [
       "<Figure size 720x216 with 1 Axes>"
      ]
     },
     "metadata": {
      "needs_background": "light"
     },
     "output_type": "display_data"
    }
   ],
   "source": [
    "# Perform the optimisation\n",
    "variational_posterior='Gamma'\n",
    "parameters_gamma, losses_gamma = optimisation(x, variational_posterior, n_steps=10000, lr=1e-2)\n",
    "plot_solution(parameters_gamma, x, z=torch.linspace(-2, 10, 1000), variational_posterior=variational_posterior)"
   ]
  },
  {
   "cell_type": "code",
   "execution_count": 76,
   "metadata": {},
   "outputs": [
    {
     "name": "stderr",
     "output_type": "stream",
     "text": [
      "Training: 100%|██████████| 10000/10000 [00:11<00:00, 885.00it/s, loss=336]    \n"
     ]
    },
    {
     "data": {
      "image/png": "[encoded data removed]",
      "text/plain": [
       "<Figure size 720x216 with 1 Axes>"
      ]
     },
     "metadata": {
      "needs_background": "light"
     },
     "output_type": "display_data"
    }
   ],
   "source": [
    "# Perform the optimisation\n",
    "variational_posterior='Exponential'\n",
    "parameters_exponential, losses_exponential = optimisation(x, variational_posterior, n_steps=10000, lr=1e-2)\n",
    "plot_solution(parameters_exponential, x, z=torch.linspace(-2, 10, 1000), variational_posterior=variational_posterior)"
   ]
  },
  {
   "cell_type": "code",
   "execution_count": 77,
   "metadata": {},
   "outputs": [
    {
     "data": {
      "image/png": "[encoded data removed]",
      "text/plain": [
       "<Figure size 720x720 with 3 Axes>"
      ]
     },
     "metadata": {
      "needs_background": "light"
     },
     "output_type": "display_data"
    }
   ],
   "source": [
    "fig, ax = plt.subplots(3,1,figsize=(10,10))\n",
    "plt.sca(ax[0])\n",
    "plt.plot(losses_gaussian, alpha=1, label='Gaussian')\n",
    "plt.title(f'Loss Gaussian: {losses_gaussian[-1]:.1f}')\n",
    "plt.sca(ax[1])\n",
    "plt.plot(losses_gamma, alpha=1, label='Gamma')\n",
    "plt.title(f'Loss Gamma: {losses_gamma[-1]:.1f}')\n",
    "plt.sca(ax[2])\n",
    "plt.plot(losses_exponential, alpha=1, label='Exponential')\n",
    "plt.title(f'Loss Exponential: {losses_exponential[-1]:.1f}')\n",
    "plt.tight_layout()\n",
    "plt.show()"
   ]
  },
  {
   "cell_type": "code",
   "execution_count": null,
   "metadata": {},
   "outputs": [],
   "source": []
  },
  {
   "cell_type": "code",
   "execution_count": null,
   "metadata": {},
   "outputs": [],
   "source": []
  }
 ],
 "metadata": {
  "kernelspec": {
   "display_name": "Python 3 (ipykernel)",
   "language": "python",
   "name": "python3"
  },
  "language_info": {
   "codemirror_mode": {
    "name": "ipython",
    "version": 3
   },
   "file_extension": ".py",
   "mimetype": "text/x-python",
   "name": "python",
   "nbconvert_exporter": "python",
   "pygments_lexer": "ipython3",
   "version": "3.11.5"
  }
 },
 "nbformat": 4,
 "nbformat_minor": 2
}
